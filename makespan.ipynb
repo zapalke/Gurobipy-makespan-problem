{
 "cells": [
  {
   "cell_type": "markdown",
   "metadata": {},
   "source": [
    "<h3>Makespan Problem</h3>\n",
    "J = {j1,j2, .. jn} - tasks<br>\n",
    "P = {p1,p2, .. pn} - time required to do each task <br>\n",
    "M = {m1,m2,m3} - avielable machines<br>\n",
    "Goal:<br>\n",
    "Arrange jobs so as to minimize the maximum processing time of all machines.<br>"
   ]
  },
  {
   "cell_type": "code",
   "execution_count": null,
   "metadata": {},
   "outputs": [],
   "source": [
    "from gurobipy import *\n",
    "import numpy as np"
   ]
  },
  {
   "cell_type": "code",
   "execution_count": null,
   "metadata": {},
   "outputs": [],
   "source": [
    "n = 20\n",
    "J = np.arange(n)\n",
    "M = ['m1','m2','m3']\n",
    "g = np.random.randint(0,50,n)"
   ]
  },
  {
   "cell_type": "code",
   "execution_count": null,
   "metadata": {},
   "outputs": [],
   "source": [
    "m = Model('MS')"
   ]
  },
  {
   "cell_type": "code",
   "execution_count": null,
   "metadata": {},
   "outputs": [],
   "source": [
    "x = m.addMVar((len(M),n), vtype=GRB.BINARY,name='machines')"
   ]
  },
  {
   "cell_type": "code",
   "execution_count": null,
   "metadata": {},
   "outputs": [],
   "source": [
    "m.setObjective((x[0,:]@g-x[1,:]@g)+(x[0,:]@g-x[2,:]@g), GRB.MINIMIZE)"
   ]
  },
  {
   "cell_type": "code",
   "execution_count": null,
   "metadata": {},
   "outputs": [],
   "source": [
    "\n",
    "m.addConstrs((sum(x[:,i]) == 1 for i in range(n)))\n",
    "m.addConstr(x[0,:]@g >= x[1,:]@g)\n",
    "m.addConstr(x[0,:]@g >= x[2,:]@g)"
   ]
  },
  {
   "cell_type": "code",
   "execution_count": null,
   "metadata": {},
   "outputs": [],
   "source": [
    "m.Params.TimeLimit = 60\n",
    "m.Params.MIPGap = 0.1"
   ]
  },
  {
   "cell_type": "code",
   "execution_count": null,
   "metadata": {},
   "outputs": [],
   "source": [
    "m.optimize()"
   ]
  },
  {
   "cell_type": "code",
   "execution_count": null,
   "metadata": {},
   "outputs": [],
   "source": [
    "x.X"
   ]
  },
  {
   "cell_type": "code",
   "execution_count": null,
   "metadata": {},
   "outputs": [],
   "source": [
    "for i in range(len(M)):\n",
    "    print(sum(x[i,:].X * g))\n",
    "print(f'Length of all the tasks:{sum(g)}')"
   ]
  }
 ],
 "metadata": {
  "interpreter": {
   "hash": "fbbfc2722fa4c55cfe558c23869bf55e6e125f72a9d3170da96cfc6383575f5f"
  },
  "kernelspec": {
   "display_name": "Python 3.10.0 64-bit",
   "language": "python",
   "name": "python3"
  },
  "language_info": {
   "codemirror_mode": {
    "name": "ipython",
    "version": 3
   },
   "file_extension": ".py",
   "mimetype": "text/x-python",
   "name": "python",
   "nbconvert_exporter": "python",
   "pygments_lexer": "ipython3",
   "version": "3.10.0"
  },
  "orig_nbformat": 4
 },
 "nbformat": 4,
 "nbformat_minor": 2
}
